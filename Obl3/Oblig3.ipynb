{
  "nbformat": 4,
  "nbformat_minor": 0,
  "metadata": {
    "colab": {
      "name": "Oblig3.ipynb",
      "provenance": [],
      "collapsed_sections": []
    },
    "kernelspec": {
      "name": "python3",
      "display_name": "Python 3"
    },
    "language_info": {
      "name": "python"
    }
  },
  "cells": [
    {
      "cell_type": "markdown",
      "metadata": {
        "id": "3b-EYWj0RU3F"
      },
      "source": [
        "#Intro\n",
        "\n",
        "First off. This was a spontaneous reboot of the assignment, after the Google Revenue dataset proved too big. Sorry for the lack of discovery and refinement. We'll go into what should have been done better.\n",
        "\n",
        "We're working on a labeled dataset, where the goal is to find *one* value per entry: The predicted revenue. Hence, this is a supervised linear regression project.\n",
        "\n",
        "The aim of this project is to create a lightweight model, suitable for web deployment. This means that the data will have to be converted into as lightweigh datatypes as possible, and as much unnecessary information trimmed away. However, one thing to notice, is that a lot of the information entered here is dicts, and not JSON objects. This is one of the main differences in comparison to the Google project. We solve this by creating dummies. However, doing so, we limit future data predictions to some predefinations, like a certain set of languages the model is trained to detect.\n",
        "\n",
        "Another discovery is that a lot of the training data had a lot of missing information. Budget being one of the major ones, and also one of the most correlating factors. One could assume there were small independent film makers making movies on the free time with whatever they had available for free. However, many of these proved productions from major studios, that simply had missing- or wrong data."
      ]
    },
    {
      "cell_type": "code",
      "metadata": {
        "id": "XwgsyWT3yHTZ"
      },
      "source": [
        "%matplotlib inline\n",
        "import numpy as np \n",
        "import pandas as pd\n",
        "import matplotlib.pyplot as plt\n",
        "import seaborn as sns\n",
        "import sklearn as skl\n",
        "import json\n",
        "from pandas.io.json import json_normalize"
      ],
      "execution_count": 367,
      "outputs": []
    },
    {
      "cell_type": "code",
      "metadata": {
        "colab": {
          "base_uri": "https://localhost:8080/",
          "height": 622
        },
        "id": "6Ym0OpmQyQVT",
        "outputId": "8fd3cb96-1b5e-4c12-c5b9-093e2914bbdc"
      },
      "source": [
        "typeDetermination = {}\n",
        "columnFiltering = [\"id\", \"budget\", \"homepage\", \"imdb_id\", \"original_language\", \"original_title\", \"overview\", \"popularity\", \"release_date\", \"runtime\", \"status\", \"tagline\", \"title\", \"revenue\"]\n",
        "\n",
        "train = pd.read_csv(\"train.csv\")#, usecols = columnFiltering)\n",
        "train.head()\n",
        "\n",
        "#train = pd.read_csv('train.csv', dtype = typeDetermination, usecols = columnFiltering)\n",
        "#train.head()"
      ],
      "execution_count": 368,
      "outputs": [
        {
          "output_type": "execute_result",
          "data": {
            "text/html": [
              "<div>\n",
              "<style scoped>\n",
              "    .dataframe tbody tr th:only-of-type {\n",
              "        vertical-align: middle;\n",
              "    }\n",
              "\n",
              "    .dataframe tbody tr th {\n",
              "        vertical-align: top;\n",
              "    }\n",
              "\n",
              "    .dataframe thead th {\n",
              "        text-align: right;\n",
              "    }\n",
              "</style>\n",
              "<table border=\"1\" class=\"dataframe\">\n",
              "  <thead>\n",
              "    <tr style=\"text-align: right;\">\n",
              "      <th></th>\n",
              "      <th>id</th>\n",
              "      <th>belongs_to_collection</th>\n",
              "      <th>budget</th>\n",
              "      <th>genres</th>\n",
              "      <th>homepage</th>\n",
              "      <th>imdb_id</th>\n",
              "      <th>original_language</th>\n",
              "      <th>original_title</th>\n",
              "      <th>overview</th>\n",
              "      <th>popularity</th>\n",
              "      <th>poster_path</th>\n",
              "      <th>production_companies</th>\n",
              "      <th>production_countries</th>\n",
              "      <th>release_date</th>\n",
              "      <th>runtime</th>\n",
              "      <th>spoken_languages</th>\n",
              "      <th>status</th>\n",
              "      <th>tagline</th>\n",
              "      <th>title</th>\n",
              "      <th>Keywords</th>\n",
              "      <th>cast</th>\n",
              "      <th>crew</th>\n",
              "      <th>revenue</th>\n",
              "    </tr>\n",
              "  </thead>\n",
              "  <tbody>\n",
              "    <tr>\n",
              "      <th>0</th>\n",
              "      <td>1</td>\n",
              "      <td>[{'id': 313576, 'name': 'Hot Tub Time Machine ...</td>\n",
              "      <td>14000000</td>\n",
              "      <td>[{'id': 35, 'name': 'Comedy'}]</td>\n",
              "      <td>NaN</td>\n",
              "      <td>tt2637294</td>\n",
              "      <td>en</td>\n",
              "      <td>Hot Tub Time Machine 2</td>\n",
              "      <td>When Lou, who has become the \"father of the In...</td>\n",
              "      <td>6.575393</td>\n",
              "      <td>/tQtWuwvMf0hCc2QR2tkolwl7c3c.jpg</td>\n",
              "      <td>[{'name': 'Paramount Pictures', 'id': 4}, {'na...</td>\n",
              "      <td>[{'iso_3166_1': 'US', 'name': 'United States o...</td>\n",
              "      <td>2/20/15</td>\n",
              "      <td>93.0</td>\n",
              "      <td>[{'iso_639_1': 'en', 'name': 'English'}]</td>\n",
              "      <td>Released</td>\n",
              "      <td>The Laws of Space and Time are About to be Vio...</td>\n",
              "      <td>Hot Tub Time Machine 2</td>\n",
              "      <td>[{'id': 4379, 'name': 'time travel'}, {'id': 9...</td>\n",
              "      <td>[{'cast_id': 4, 'character': 'Lou', 'credit_id...</td>\n",
              "      <td>[{'credit_id': '59ac067c92514107af02c8c8', 'de...</td>\n",
              "      <td>12314651</td>\n",
              "    </tr>\n",
              "    <tr>\n",
              "      <th>1</th>\n",
              "      <td>2</td>\n",
              "      <td>[{'id': 107674, 'name': 'The Princess Diaries ...</td>\n",
              "      <td>40000000</td>\n",
              "      <td>[{'id': 35, 'name': 'Comedy'}, {'id': 18, 'nam...</td>\n",
              "      <td>NaN</td>\n",
              "      <td>tt0368933</td>\n",
              "      <td>en</td>\n",
              "      <td>The Princess Diaries 2: Royal Engagement</td>\n",
              "      <td>Mia Thermopolis is now a college graduate and ...</td>\n",
              "      <td>8.248895</td>\n",
              "      <td>/w9Z7A0GHEhIp7etpj0vyKOeU1Wx.jpg</td>\n",
              "      <td>[{'name': 'Walt Disney Pictures', 'id': 2}]</td>\n",
              "      <td>[{'iso_3166_1': 'US', 'name': 'United States o...</td>\n",
              "      <td>8/6/04</td>\n",
              "      <td>113.0</td>\n",
              "      <td>[{'iso_639_1': 'en', 'name': 'English'}]</td>\n",
              "      <td>Released</td>\n",
              "      <td>It can take a lifetime to find true love; she'...</td>\n",
              "      <td>The Princess Diaries 2: Royal Engagement</td>\n",
              "      <td>[{'id': 2505, 'name': 'coronation'}, {'id': 42...</td>\n",
              "      <td>[{'cast_id': 1, 'character': 'Mia Thermopolis'...</td>\n",
              "      <td>[{'credit_id': '52fe43fe9251416c7502563d', 'de...</td>\n",
              "      <td>95149435</td>\n",
              "    </tr>\n",
              "    <tr>\n",
              "      <th>2</th>\n",
              "      <td>3</td>\n",
              "      <td>NaN</td>\n",
              "      <td>3300000</td>\n",
              "      <td>[{'id': 18, 'name': 'Drama'}]</td>\n",
              "      <td>http://sonyclassics.com/whiplash/</td>\n",
              "      <td>tt2582802</td>\n",
              "      <td>en</td>\n",
              "      <td>Whiplash</td>\n",
              "      <td>Under the direction of a ruthless instructor, ...</td>\n",
              "      <td>64.299990</td>\n",
              "      <td>/lIv1QinFqz4dlp5U4lQ6HaiskOZ.jpg</td>\n",
              "      <td>[{'name': 'Bold Films', 'id': 2266}, {'name': ...</td>\n",
              "      <td>[{'iso_3166_1': 'US', 'name': 'United States o...</td>\n",
              "      <td>10/10/14</td>\n",
              "      <td>105.0</td>\n",
              "      <td>[{'iso_639_1': 'en', 'name': 'English'}]</td>\n",
              "      <td>Released</td>\n",
              "      <td>The road to greatness can take you to the edge.</td>\n",
              "      <td>Whiplash</td>\n",
              "      <td>[{'id': 1416, 'name': 'jazz'}, {'id': 1523, 'n...</td>\n",
              "      <td>[{'cast_id': 5, 'character': 'Andrew Neimann',...</td>\n",
              "      <td>[{'credit_id': '54d5356ec3a3683ba0000039', 'de...</td>\n",
              "      <td>13092000</td>\n",
              "    </tr>\n",
              "    <tr>\n",
              "      <th>3</th>\n",
              "      <td>4</td>\n",
              "      <td>NaN</td>\n",
              "      <td>1200000</td>\n",
              "      <td>[{'id': 53, 'name': 'Thriller'}, {'id': 18, 'n...</td>\n",
              "      <td>http://kahaanithefilm.com/</td>\n",
              "      <td>tt1821480</td>\n",
              "      <td>hi</td>\n",
              "      <td>Kahaani</td>\n",
              "      <td>Vidya Bagchi (Vidya Balan) arrives in Kolkata ...</td>\n",
              "      <td>3.174936</td>\n",
              "      <td>/aTXRaPrWSinhcmCrcfJK17urp3F.jpg</td>\n",
              "      <td>NaN</td>\n",
              "      <td>[{'iso_3166_1': 'IN', 'name': 'India'}]</td>\n",
              "      <td>3/9/12</td>\n",
              "      <td>122.0</td>\n",
              "      <td>[{'iso_639_1': 'en', 'name': 'English'}, {'iso...</td>\n",
              "      <td>Released</td>\n",
              "      <td>NaN</td>\n",
              "      <td>Kahaani</td>\n",
              "      <td>[{'id': 10092, 'name': 'mystery'}, {'id': 1054...</td>\n",
              "      <td>[{'cast_id': 1, 'character': 'Vidya Bagchi', '...</td>\n",
              "      <td>[{'credit_id': '52fe48779251416c9108d6eb', 'de...</td>\n",
              "      <td>16000000</td>\n",
              "    </tr>\n",
              "    <tr>\n",
              "      <th>4</th>\n",
              "      <td>5</td>\n",
              "      <td>NaN</td>\n",
              "      <td>0</td>\n",
              "      <td>[{'id': 28, 'name': 'Action'}, {'id': 53, 'nam...</td>\n",
              "      <td>NaN</td>\n",
              "      <td>tt1380152</td>\n",
              "      <td>ko</td>\n",
              "      <td>마린보이</td>\n",
              "      <td>Marine Boy is the story of a former national s...</td>\n",
              "      <td>1.148070</td>\n",
              "      <td>/m22s7zvkVFDU9ir56PiiqIEWFdT.jpg</td>\n",
              "      <td>NaN</td>\n",
              "      <td>[{'iso_3166_1': 'KR', 'name': 'South Korea'}]</td>\n",
              "      <td>2/5/09</td>\n",
              "      <td>118.0</td>\n",
              "      <td>[{'iso_639_1': 'ko', 'name': '한국어/조선말'}]</td>\n",
              "      <td>Released</td>\n",
              "      <td>NaN</td>\n",
              "      <td>Marine Boy</td>\n",
              "      <td>NaN</td>\n",
              "      <td>[{'cast_id': 3, 'character': 'Chun-soo', 'cred...</td>\n",
              "      <td>[{'credit_id': '52fe464b9251416c75073b43', 'de...</td>\n",
              "      <td>3923970</td>\n",
              "    </tr>\n",
              "  </tbody>\n",
              "</table>\n",
              "</div>"
            ],
            "text/plain": [
              "   id  ...   revenue\n",
              "0   1  ...  12314651\n",
              "1   2  ...  95149435\n",
              "2   3  ...  13092000\n",
              "3   4  ...  16000000\n",
              "4   5  ...   3923970\n",
              "\n",
              "[5 rows x 23 columns]"
            ]
          },
          "metadata": {},
          "execution_count": 368
        }
      ]
    },
    {
      "cell_type": "code",
      "metadata": {
        "colab": {
          "base_uri": "https://localhost:8080/",
          "height": 605
        },
        "id": "kMBfN5vwV8FB",
        "outputId": "8f7bd75b-34a3-4dae-f0d6-9d6f73877617"
      },
      "source": [
        "test = pd.read_csv(\"test.csv\")\n",
        "test.head()"
      ],
      "execution_count": 369,
      "outputs": [
        {
          "output_type": "execute_result",
          "data": {
            "text/html": [
              "<div>\n",
              "<style scoped>\n",
              "    .dataframe tbody tr th:only-of-type {\n",
              "        vertical-align: middle;\n",
              "    }\n",
              "\n",
              "    .dataframe tbody tr th {\n",
              "        vertical-align: top;\n",
              "    }\n",
              "\n",
              "    .dataframe thead th {\n",
              "        text-align: right;\n",
              "    }\n",
              "</style>\n",
              "<table border=\"1\" class=\"dataframe\">\n",
              "  <thead>\n",
              "    <tr style=\"text-align: right;\">\n",
              "      <th></th>\n",
              "      <th>id</th>\n",
              "      <th>belongs_to_collection</th>\n",
              "      <th>budget</th>\n",
              "      <th>genres</th>\n",
              "      <th>homepage</th>\n",
              "      <th>imdb_id</th>\n",
              "      <th>original_language</th>\n",
              "      <th>original_title</th>\n",
              "      <th>overview</th>\n",
              "      <th>popularity</th>\n",
              "      <th>poster_path</th>\n",
              "      <th>production_companies</th>\n",
              "      <th>production_countries</th>\n",
              "      <th>release_date</th>\n",
              "      <th>runtime</th>\n",
              "      <th>spoken_languages</th>\n",
              "      <th>status</th>\n",
              "      <th>tagline</th>\n",
              "      <th>title</th>\n",
              "      <th>Keywords</th>\n",
              "      <th>cast</th>\n",
              "      <th>crew</th>\n",
              "    </tr>\n",
              "  </thead>\n",
              "  <tbody>\n",
              "    <tr>\n",
              "      <th>0</th>\n",
              "      <td>3001</td>\n",
              "      <td>[{'id': 34055, 'name': 'Pokémon Collection', '...</td>\n",
              "      <td>0</td>\n",
              "      <td>[{'id': 12, 'name': 'Adventure'}, {'id': 16, '...</td>\n",
              "      <td>http://www.pokemon.com/us/movies/movie-pokemon...</td>\n",
              "      <td>tt1226251</td>\n",
              "      <td>ja</td>\n",
              "      <td>ディアルガVSパルキアVSダークライ</td>\n",
              "      <td>Ash and friends (this time accompanied by newc...</td>\n",
              "      <td>3.851534</td>\n",
              "      <td>/tnftmLMemPLduW6MRyZE0ZUD19z.jpg</td>\n",
              "      <td>NaN</td>\n",
              "      <td>[{'iso_3166_1': 'JP', 'name': 'Japan'}, {'iso_...</td>\n",
              "      <td>7/14/07</td>\n",
              "      <td>90.0</td>\n",
              "      <td>[{'iso_639_1': 'en', 'name': 'English'}, {'iso...</td>\n",
              "      <td>Released</td>\n",
              "      <td>Somewhere Between Time &amp; Space... A Legend Is ...</td>\n",
              "      <td>Pokémon: The Rise of Darkrai</td>\n",
              "      <td>[{'id': 11451, 'name': 'pok√©mon'}, {'id': 115...</td>\n",
              "      <td>[{'cast_id': 3, 'character': 'Tonio', 'credit_...</td>\n",
              "      <td>[{'credit_id': '52fe44e7c3a368484e03d683', 'de...</td>\n",
              "    </tr>\n",
              "    <tr>\n",
              "      <th>1</th>\n",
              "      <td>3002</td>\n",
              "      <td>NaN</td>\n",
              "      <td>88000</td>\n",
              "      <td>[{'id': 27, 'name': 'Horror'}, {'id': 878, 'na...</td>\n",
              "      <td>NaN</td>\n",
              "      <td>tt0051380</td>\n",
              "      <td>en</td>\n",
              "      <td>Attack of the 50 Foot Woman</td>\n",
              "      <td>When an abused wife grows to giant size becaus...</td>\n",
              "      <td>3.559789</td>\n",
              "      <td>/9MgBNBqlH1sG4yG2u4XkwI5CoJa.jpg</td>\n",
              "      <td>[{'name': 'Woolner Brothers Pictures Inc.', 'i...</td>\n",
              "      <td>[{'iso_3166_1': 'US', 'name': 'United States o...</td>\n",
              "      <td>5/19/58</td>\n",
              "      <td>65.0</td>\n",
              "      <td>[{'iso_639_1': 'en', 'name': 'English'}]</td>\n",
              "      <td>Released</td>\n",
              "      <td>A titanic beauty spreads a macabre wave of hor...</td>\n",
              "      <td>Attack of the 50 Foot Woman</td>\n",
              "      <td>[{'id': 9748, 'name': 'revenge'}, {'id': 9951,...</td>\n",
              "      <td>[{'cast_id': 2, 'character': 'Nancy Fowler Arc...</td>\n",
              "      <td>[{'credit_id': '55807805c3a3685b1300060b', 'de...</td>\n",
              "    </tr>\n",
              "    <tr>\n",
              "      <th>2</th>\n",
              "      <td>3003</td>\n",
              "      <td>NaN</td>\n",
              "      <td>0</td>\n",
              "      <td>[{'id': 35, 'name': 'Comedy'}, {'id': 10749, '...</td>\n",
              "      <td>NaN</td>\n",
              "      <td>tt0118556</td>\n",
              "      <td>en</td>\n",
              "      <td>Addicted to Love</td>\n",
              "      <td>Good-natured astronomer Sam is devastated when...</td>\n",
              "      <td>8.085194</td>\n",
              "      <td>/ed6nD7h9sbojSWY2qrnDcSvDFko.jpg</td>\n",
              "      <td>[{'name': 'Warner Bros.', 'id': 6194}, {'name'...</td>\n",
              "      <td>[{'iso_3166_1': 'US', 'name': 'United States o...</td>\n",
              "      <td>5/23/97</td>\n",
              "      <td>100.0</td>\n",
              "      <td>[{'iso_639_1': 'en', 'name': 'English'}]</td>\n",
              "      <td>Released</td>\n",
              "      <td>A Comedy About Lost Loves And Last Laughs</td>\n",
              "      <td>Addicted to Love</td>\n",
              "      <td>[{'id': 931, 'name': 'jealousy'}, {'id': 9673,...</td>\n",
              "      <td>[{'cast_id': 11, 'character': 'Maggie', 'credi...</td>\n",
              "      <td>[{'credit_id': '52fe4330c3a36847f8041367', 'de...</td>\n",
              "    </tr>\n",
              "    <tr>\n",
              "      <th>3</th>\n",
              "      <td>3004</td>\n",
              "      <td>NaN</td>\n",
              "      <td>6800000</td>\n",
              "      <td>[{'id': 18, 'name': 'Drama'}, {'id': 10752, 'n...</td>\n",
              "      <td>http://www.sonyclassics.com/incendies/</td>\n",
              "      <td>tt1255953</td>\n",
              "      <td>fr</td>\n",
              "      <td>Incendies</td>\n",
              "      <td>A mother's last wishes send twins Jeanne and S...</td>\n",
              "      <td>8.596012</td>\n",
              "      <td>/sEUG3qjxwHjxkzuO7plrRHhOZUH.jpg</td>\n",
              "      <td>[{'name': 'TS Productions', 'id': 313}, {'name...</td>\n",
              "      <td>[{'iso_3166_1': 'CA', 'name': 'Canada'}, {'iso...</td>\n",
              "      <td>9/4/10</td>\n",
              "      <td>130.0</td>\n",
              "      <td>[{'iso_639_1': 'fr', 'name': 'Français'}, {'is...</td>\n",
              "      <td>Released</td>\n",
              "      <td>The search began at the opening of their mothe...</td>\n",
              "      <td>Incendies</td>\n",
              "      <td>[{'id': 378, 'name': 'prison'}, {'id': 539, 'n...</td>\n",
              "      <td>[{'cast_id': 6, 'character': 'Nawal', 'credit_...</td>\n",
              "      <td>[{'credit_id': '56478092c3a36826140043af', 'de...</td>\n",
              "    </tr>\n",
              "    <tr>\n",
              "      <th>4</th>\n",
              "      <td>3005</td>\n",
              "      <td>NaN</td>\n",
              "      <td>2000000</td>\n",
              "      <td>[{'id': 36, 'name': 'History'}, {'id': 99, 'na...</td>\n",
              "      <td>NaN</td>\n",
              "      <td>tt0418753</td>\n",
              "      <td>en</td>\n",
              "      <td>Inside Deep Throat</td>\n",
              "      <td>In 1972, a seemingly typical shoestring budget...</td>\n",
              "      <td>3.217680</td>\n",
              "      <td>/n4WC3zbelz6SG7rhkWbf8m9pMHB.jpg</td>\n",
              "      <td>NaN</td>\n",
              "      <td>[{'iso_3166_1': 'US', 'name': 'United States o...</td>\n",
              "      <td>2/11/05</td>\n",
              "      <td>92.0</td>\n",
              "      <td>[{'iso_639_1': 'en', 'name': 'English'}]</td>\n",
              "      <td>Released</td>\n",
              "      <td>It was filmed in 6 days for 25 thousand dollar...</td>\n",
              "      <td>Inside Deep Throat</td>\n",
              "      <td>[{'id': 279, 'name': 'usa'}, {'id': 1228, 'nam...</td>\n",
              "      <td>[{'cast_id': 1, 'character': 'Narrator (voice)...</td>\n",
              "      <td>[{'credit_id': '52fe44ce9251416c75041967', 'de...</td>\n",
              "    </tr>\n",
              "  </tbody>\n",
              "</table>\n",
              "</div>"
            ],
            "text/plain": [
              "     id  ...                                               crew\n",
              "0  3001  ...  [{'credit_id': '52fe44e7c3a368484e03d683', 'de...\n",
              "1  3002  ...  [{'credit_id': '55807805c3a3685b1300060b', 'de...\n",
              "2  3003  ...  [{'credit_id': '52fe4330c3a36847f8041367', 'de...\n",
              "3  3004  ...  [{'credit_id': '56478092c3a36826140043af', 'de...\n",
              "4  3005  ...  [{'credit_id': '52fe44ce9251416c75041967', 'de...\n",
              "\n",
              "[5 rows x 22 columns]"
            ]
          },
          "metadata": {},
          "execution_count": 369
        }
      ]
    },
    {
      "cell_type": "code",
      "metadata": {
        "colab": {
          "base_uri": "https://localhost:8080/"
        },
        "id": "di8EOZrNFSL6",
        "outputId": "cb6ae4f4-0463-40be-f309-df5cb505d54b"
      },
      "source": [
        "train.info()"
      ],
      "execution_count": 370,
      "outputs": [
        {
          "output_type": "stream",
          "name": "stdout",
          "text": [
            "<class 'pandas.core.frame.DataFrame'>\n",
            "RangeIndex: 3000 entries, 0 to 2999\n",
            "Data columns (total 23 columns):\n",
            " #   Column                 Non-Null Count  Dtype  \n",
            "---  ------                 --------------  -----  \n",
            " 0   id                     3000 non-null   int64  \n",
            " 1   belongs_to_collection  604 non-null    object \n",
            " 2   budget                 3000 non-null   int64  \n",
            " 3   genres                 2993 non-null   object \n",
            " 4   homepage               946 non-null    object \n",
            " 5   imdb_id                3000 non-null   object \n",
            " 6   original_language      3000 non-null   object \n",
            " 7   original_title         3000 non-null   object \n",
            " 8   overview               2992 non-null   object \n",
            " 9   popularity             3000 non-null   float64\n",
            " 10  poster_path            2999 non-null   object \n",
            " 11  production_companies   2844 non-null   object \n",
            " 12  production_countries   2945 non-null   object \n",
            " 13  release_date           3000 non-null   object \n",
            " 14  runtime                2998 non-null   float64\n",
            " 15  spoken_languages       2980 non-null   object \n",
            " 16  status                 3000 non-null   object \n",
            " 17  tagline                2403 non-null   object \n",
            " 18  title                  3000 non-null   object \n",
            " 19  Keywords               2724 non-null   object \n",
            " 20  cast                   2987 non-null   object \n",
            " 21  crew                   2984 non-null   object \n",
            " 22  revenue                3000 non-null   int64  \n",
            "dtypes: float64(2), int64(3), object(18)\n",
            "memory usage: 539.2+ KB\n"
          ]
        }
      ]
    },
    {
      "cell_type": "code",
      "metadata": {
        "colab": {
          "base_uri": "https://localhost:8080/",
          "height": 294
        },
        "id": "w4JNulJAVtu6",
        "outputId": "9f60d693-e589-4fa9-ccf6-f82071897e71"
      },
      "source": [
        "train.describe()"
      ],
      "execution_count": 371,
      "outputs": [
        {
          "output_type": "execute_result",
          "data": {
            "text/html": [
              "<div>\n",
              "<style scoped>\n",
              "    .dataframe tbody tr th:only-of-type {\n",
              "        vertical-align: middle;\n",
              "    }\n",
              "\n",
              "    .dataframe tbody tr th {\n",
              "        vertical-align: top;\n",
              "    }\n",
              "\n",
              "    .dataframe thead th {\n",
              "        text-align: right;\n",
              "    }\n",
              "</style>\n",
              "<table border=\"1\" class=\"dataframe\">\n",
              "  <thead>\n",
              "    <tr style=\"text-align: right;\">\n",
              "      <th></th>\n",
              "      <th>id</th>\n",
              "      <th>budget</th>\n",
              "      <th>popularity</th>\n",
              "      <th>runtime</th>\n",
              "      <th>revenue</th>\n",
              "    </tr>\n",
              "  </thead>\n",
              "  <tbody>\n",
              "    <tr>\n",
              "      <th>count</th>\n",
              "      <td>3000.000000</td>\n",
              "      <td>3.000000e+03</td>\n",
              "      <td>3000.000000</td>\n",
              "      <td>2998.000000</td>\n",
              "      <td>3.000000e+03</td>\n",
              "    </tr>\n",
              "    <tr>\n",
              "      <th>mean</th>\n",
              "      <td>1500.500000</td>\n",
              "      <td>2.253133e+07</td>\n",
              "      <td>8.463274</td>\n",
              "      <td>107.856571</td>\n",
              "      <td>6.672585e+07</td>\n",
              "    </tr>\n",
              "    <tr>\n",
              "      <th>std</th>\n",
              "      <td>866.169729</td>\n",
              "      <td>3.702609e+07</td>\n",
              "      <td>12.104000</td>\n",
              "      <td>22.086434</td>\n",
              "      <td>1.375323e+08</td>\n",
              "    </tr>\n",
              "    <tr>\n",
              "      <th>min</th>\n",
              "      <td>1.000000</td>\n",
              "      <td>0.000000e+00</td>\n",
              "      <td>0.000001</td>\n",
              "      <td>0.000000</td>\n",
              "      <td>1.000000e+00</td>\n",
              "    </tr>\n",
              "    <tr>\n",
              "      <th>25%</th>\n",
              "      <td>750.750000</td>\n",
              "      <td>0.000000e+00</td>\n",
              "      <td>4.018053</td>\n",
              "      <td>94.000000</td>\n",
              "      <td>2.379808e+06</td>\n",
              "    </tr>\n",
              "    <tr>\n",
              "      <th>50%</th>\n",
              "      <td>1500.500000</td>\n",
              "      <td>8.000000e+06</td>\n",
              "      <td>7.374861</td>\n",
              "      <td>104.000000</td>\n",
              "      <td>1.680707e+07</td>\n",
              "    </tr>\n",
              "    <tr>\n",
              "      <th>75%</th>\n",
              "      <td>2250.250000</td>\n",
              "      <td>2.900000e+07</td>\n",
              "      <td>10.890983</td>\n",
              "      <td>118.000000</td>\n",
              "      <td>6.891920e+07</td>\n",
              "    </tr>\n",
              "    <tr>\n",
              "      <th>max</th>\n",
              "      <td>3000.000000</td>\n",
              "      <td>3.800000e+08</td>\n",
              "      <td>294.337037</td>\n",
              "      <td>338.000000</td>\n",
              "      <td>1.519558e+09</td>\n",
              "    </tr>\n",
              "  </tbody>\n",
              "</table>\n",
              "</div>"
            ],
            "text/plain": [
              "                id        budget   popularity      runtime       revenue\n",
              "count  3000.000000  3.000000e+03  3000.000000  2998.000000  3.000000e+03\n",
              "mean   1500.500000  2.253133e+07     8.463274   107.856571  6.672585e+07\n",
              "std     866.169729  3.702609e+07    12.104000    22.086434  1.375323e+08\n",
              "min       1.000000  0.000000e+00     0.000001     0.000000  1.000000e+00\n",
              "25%     750.750000  0.000000e+00     4.018053    94.000000  2.379808e+06\n",
              "50%    1500.500000  8.000000e+06     7.374861   104.000000  1.680707e+07\n",
              "75%    2250.250000  2.900000e+07    10.890983   118.000000  6.891920e+07\n",
              "max    3000.000000  3.800000e+08   294.337037   338.000000  1.519558e+09"
            ]
          },
          "metadata": {},
          "execution_count": 371
        }
      ]
    },
    {
      "cell_type": "code",
      "metadata": {
        "colab": {
          "base_uri": "https://localhost:8080/",
          "height": 294
        },
        "id": "Emh9weS9V1oM",
        "outputId": "776e018d-95df-47d5-cfbb-e4bd6ea76376"
      },
      "source": [
        "test.describe()"
      ],
      "execution_count": 372,
      "outputs": [
        {
          "output_type": "execute_result",
          "data": {
            "text/html": [
              "<div>\n",
              "<style scoped>\n",
              "    .dataframe tbody tr th:only-of-type {\n",
              "        vertical-align: middle;\n",
              "    }\n",
              "\n",
              "    .dataframe tbody tr th {\n",
              "        vertical-align: top;\n",
              "    }\n",
              "\n",
              "    .dataframe thead th {\n",
              "        text-align: right;\n",
              "    }\n",
              "</style>\n",
              "<table border=\"1\" class=\"dataframe\">\n",
              "  <thead>\n",
              "    <tr style=\"text-align: right;\">\n",
              "      <th></th>\n",
              "      <th>id</th>\n",
              "      <th>budget</th>\n",
              "      <th>popularity</th>\n",
              "      <th>runtime</th>\n",
              "    </tr>\n",
              "  </thead>\n",
              "  <tbody>\n",
              "    <tr>\n",
              "      <th>count</th>\n",
              "      <td>4398.000000</td>\n",
              "      <td>4.398000e+03</td>\n",
              "      <td>4398.000000</td>\n",
              "      <td>4394.000000</td>\n",
              "    </tr>\n",
              "    <tr>\n",
              "      <th>mean</th>\n",
              "      <td>5199.500000</td>\n",
              "      <td>2.264929e+07</td>\n",
              "      <td>8.550230</td>\n",
              "      <td>107.622212</td>\n",
              "    </tr>\n",
              "    <tr>\n",
              "      <th>std</th>\n",
              "      <td>1269.737571</td>\n",
              "      <td>3.689991e+07</td>\n",
              "      <td>12.209014</td>\n",
              "      <td>21.058290</td>\n",
              "    </tr>\n",
              "    <tr>\n",
              "      <th>min</th>\n",
              "      <td>3001.000000</td>\n",
              "      <td>0.000000e+00</td>\n",
              "      <td>0.000001</td>\n",
              "      <td>0.000000</td>\n",
              "    </tr>\n",
              "    <tr>\n",
              "      <th>25%</th>\n",
              "      <td>4100.250000</td>\n",
              "      <td>0.000000e+00</td>\n",
              "      <td>3.895186</td>\n",
              "      <td>94.000000</td>\n",
              "    </tr>\n",
              "    <tr>\n",
              "      <th>50%</th>\n",
              "      <td>5199.500000</td>\n",
              "      <td>7.450000e+06</td>\n",
              "      <td>7.482241</td>\n",
              "      <td>104.000000</td>\n",
              "    </tr>\n",
              "    <tr>\n",
              "      <th>75%</th>\n",
              "      <td>6298.750000</td>\n",
              "      <td>2.800000e+07</td>\n",
              "      <td>10.938524</td>\n",
              "      <td>118.000000</td>\n",
              "    </tr>\n",
              "    <tr>\n",
              "      <th>max</th>\n",
              "      <td>7398.000000</td>\n",
              "      <td>2.600000e+08</td>\n",
              "      <td>547.488298</td>\n",
              "      <td>320.000000</td>\n",
              "    </tr>\n",
              "  </tbody>\n",
              "</table>\n",
              "</div>"
            ],
            "text/plain": [
              "                id        budget   popularity      runtime\n",
              "count  4398.000000  4.398000e+03  4398.000000  4394.000000\n",
              "mean   5199.500000  2.264929e+07     8.550230   107.622212\n",
              "std    1269.737571  3.689991e+07    12.209014    21.058290\n",
              "min    3001.000000  0.000000e+00     0.000001     0.000000\n",
              "25%    4100.250000  0.000000e+00     3.895186    94.000000\n",
              "50%    5199.500000  7.450000e+06     7.482241   104.000000\n",
              "75%    6298.750000  2.800000e+07    10.938524   118.000000\n",
              "max    7398.000000  2.600000e+08   547.488298   320.000000"
            ]
          },
          "metadata": {},
          "execution_count": 372
        }
      ]
    },
    {
      "cell_type": "code",
      "metadata": {
        "colab": {
          "base_uri": "https://localhost:8080/"
        },
        "id": "NecNHCROabV7",
        "outputId": "0334abdd-0fe6-4cab-b5ff-18ab3aa7f52c"
      },
      "source": [
        "train.isna().sum().sort_values(ascending=False)"
      ],
      "execution_count": 373,
      "outputs": [
        {
          "output_type": "execute_result",
          "data": {
            "text/plain": [
              "belongs_to_collection    2396\n",
              "homepage                 2054\n",
              "tagline                   597\n",
              "Keywords                  276\n",
              "production_companies      156\n",
              "production_countries       55\n",
              "spoken_languages           20\n",
              "crew                       16\n",
              "cast                       13\n",
              "overview                    8\n",
              "genres                      7\n",
              "runtime                     2\n",
              "poster_path                 1\n",
              "original_language           0\n",
              "budget                      0\n",
              "imdb_id                     0\n",
              "revenue                     0\n",
              "original_title              0\n",
              "popularity                  0\n",
              "release_date                0\n",
              "status                      0\n",
              "title                       0\n",
              "id                          0\n",
              "dtype: int64"
            ]
          },
          "metadata": {},
          "execution_count": 373
        }
      ]
    },
    {
      "cell_type": "code",
      "metadata": {
        "colab": {
          "base_uri": "https://localhost:8080/"
        },
        "id": "kU_SgDJXaf2N",
        "outputId": "2cdb41f9-02ac-4dd4-9253-b12de66122ae"
      },
      "source": [
        "test.isna().sum().sort_values(ascending=False)"
      ],
      "execution_count": 374,
      "outputs": [
        {
          "output_type": "execute_result",
          "data": {
            "text/plain": [
              "belongs_to_collection    3521\n",
              "homepage                 2978\n",
              "tagline                   863\n",
              "Keywords                  393\n",
              "production_companies      258\n",
              "production_countries      102\n",
              "spoken_languages           42\n",
              "crew                       22\n",
              "genres                     16\n",
              "overview                   14\n",
              "cast                       13\n",
              "runtime                     4\n",
              "title                       3\n",
              "status                      2\n",
              "poster_path                 1\n",
              "release_date                1\n",
              "original_language           0\n",
              "imdb_id                     0\n",
              "original_title              0\n",
              "popularity                  0\n",
              "budget                      0\n",
              "id                          0\n",
              "dtype: int64"
            ]
          },
          "metadata": {},
          "execution_count": 374
        }
      ]
    },
    {
      "cell_type": "markdown",
      "metadata": {
        "id": "DCwtFX2IbIAW"
      },
      "source": [
        "#Cleaning and Preparation"
      ]
    },
    {
      "cell_type": "code",
      "metadata": {
        "colab": {
          "base_uri": "https://localhost:8080/"
        },
        "id": "fJ3DTCElahz6",
        "outputId": "c1358bb7-bb55-4f7b-ae73-5bced76503ea"
      },
      "source": [
        "print (\"Collections\")\n",
        "print (train[\"belongs_to_collection\"][:3])\n",
        "\n",
        "print (\"\\nHomepages\")\n",
        "print (train[\"homepage\"][:3])\n",
        "\n",
        "print (\"\\nTaglines\")\n",
        "print (train[\"tagline\"][:3])\n",
        "\n",
        "print (\"\\nKeywords\")\n",
        "print (train[\"Keywords\"][:3])\n",
        "\n",
        "print (\"\\nProd. companies\")\n",
        "print (train[\"production_companies\"][:3])\n",
        "\n",
        "print (\"\\nProd. countries\")\n",
        "print (train[\"production_countries\"][:3])"
      ],
      "execution_count": 375,
      "outputs": [
        {
          "output_type": "stream",
          "name": "stdout",
          "text": [
            "Collections\n",
            "0    [{'id': 313576, 'name': 'Hot Tub Time Machine ...\n",
            "1    [{'id': 107674, 'name': 'The Princess Diaries ...\n",
            "2                                                  NaN\n",
            "Name: belongs_to_collection, dtype: object\n",
            "\n",
            "Homepages\n",
            "0                                  NaN\n",
            "1                                  NaN\n",
            "2    http://sonyclassics.com/whiplash/\n",
            "Name: homepage, dtype: object\n",
            "\n",
            "Taglines\n",
            "0    The Laws of Space and Time are About to be Vio...\n",
            "1    It can take a lifetime to find true love; she'...\n",
            "2      The road to greatness can take you to the edge.\n",
            "Name: tagline, dtype: object\n",
            "\n",
            "Keywords\n",
            "0    [{'id': 4379, 'name': 'time travel'}, {'id': 9...\n",
            "1    [{'id': 2505, 'name': 'coronation'}, {'id': 42...\n",
            "2    [{'id': 1416, 'name': 'jazz'}, {'id': 1523, 'n...\n",
            "Name: Keywords, dtype: object\n",
            "\n",
            "Prod. companies\n",
            "0    [{'name': 'Paramount Pictures', 'id': 4}, {'na...\n",
            "1          [{'name': 'Walt Disney Pictures', 'id': 2}]\n",
            "2    [{'name': 'Bold Films', 'id': 2266}, {'name': ...\n",
            "Name: production_companies, dtype: object\n",
            "\n",
            "Prod. countries\n",
            "0    [{'iso_3166_1': 'US', 'name': 'United States o...\n",
            "1    [{'iso_3166_1': 'US', 'name': 'United States o...\n",
            "2    [{'iso_3166_1': 'US', 'name': 'United States o...\n",
            "Name: production_countries, dtype: object\n"
          ]
        }
      ]
    },
    {
      "cell_type": "code",
      "metadata": {
        "id": "EyHZjezsy3tt",
        "colab": {
          "base_uri": "https://localhost:8080/"
        },
        "outputId": "ae20e646-8fde-4cdb-a3b3-7f6b9e156bd9"
      },
      "source": [
        " dropping = [\"belongs_to_collection\", \"homepage\", \"tagline\"]\n",
        "\n",
        "# Note to self: Double check other columns with a lot of text, and values that are hard to compare at a later stage.\n",
        "\n",
        "train.drop(dropping, axis = 1, inplace = True)\n",
        "test.drop(dropping, axis = 1, inplace = True)\n",
        "\n",
        "train.dropna(inplace = True)\n",
        "test.dropna(inplace = True)\n",
        "\n",
        "# train.info shows previous amount of columns\n",
        "\n",
        "print(train.shape)\n",
        "print(test.shape)"
      ],
      "execution_count": 376,
      "outputs": [
        {
          "output_type": "stream",
          "name": "stdout",
          "text": [
            "(2606, 20)\n",
            "(3814, 19)\n"
          ]
        }
      ]
    },
    {
      "cell_type": "markdown",
      "metadata": {
        "id": "Gp1J3kicCD_e"
      },
      "source": [
        "In the following output, we see that the amount of movies where runtime equals 0 is low, and we drop them. However, the amount where budget equals 0 is high, and we have to do something different about it."
      ]
    },
    {
      "cell_type": "code",
      "metadata": {
        "colab": {
          "base_uri": "https://localhost:8080/"
        },
        "id": "k1NAVZEx9oEz",
        "outputId": "b2fb68a8-187d-469b-8cf0-eb49be4e10ab"
      },
      "source": [
        "print(\"Number of runtime = 0 in train:\", len(train[train['runtime']==0]))\n",
        "print(\"Number of runtime = 0 in test:\", len(test[test['runtime']==0]))\n",
        "\n",
        "print(\"Number of budget = 0 in train:\", len(train[train['budget']==0]))\n",
        "print(\"Number of budget = 0 in test:\", len(test[test['budget']==0]))"
      ],
      "execution_count": 377,
      "outputs": [
        {
          "output_type": "stream",
          "name": "stdout",
          "text": [
            "Number of runtime = 0 in train: 2\n",
            "Number of runtime = 0 in test: 0\n",
            "Number of budget = 0 in train: 614\n",
            "Number of budget = 0 in test: 923\n"
          ]
        }
      ]
    },
    {
      "cell_type": "code",
      "metadata": {
        "colab": {
          "base_uri": "https://localhost:8080/"
        },
        "id": "RPyoW_vn9sUJ",
        "outputId": "7a65bbd0-bee9-4606-fd6c-46b8d6b026eb"
      },
      "source": [
        "train = train[train.runtime != 0]\n",
        "train.shape"
      ],
      "execution_count": 378,
      "outputs": [
        {
          "output_type": "execute_result",
          "data": {
            "text/plain": [
              "(2604, 20)"
            ]
          },
          "metadata": {},
          "execution_count": 378
        }
      ]
    },
    {
      "cell_type": "markdown",
      "metadata": {
        "id": "KiUiFCqenOeq"
      },
      "source": [
        "We've now cleaned out columns with a significant amount of missing values, as well as rows with missing values. We double check this with the following:"
      ]
    },
    {
      "cell_type": "code",
      "metadata": {
        "colab": {
          "base_uri": "https://localhost:8080/"
        },
        "id": "XWa0yg0Rz3MW",
        "outputId": "76805256-1716-42a1-c662-edfb5750a85b"
      },
      "source": [
        "print (\"Train is N/A:\")\n",
        "print (train.isna().sum().sort_values(ascending=False))\n",
        "print (\"\\nTest is N/A:\")\n",
        "print (test.isna().sum().sort_values(ascending=False))"
      ],
      "execution_count": 379,
      "outputs": [
        {
          "output_type": "stream",
          "name": "stdout",
          "text": [
            "Train is N/A:\n",
            "revenue                 0\n",
            "crew                    0\n",
            "budget                  0\n",
            "genres                  0\n",
            "imdb_id                 0\n",
            "original_language       0\n",
            "original_title          0\n",
            "overview                0\n",
            "popularity              0\n",
            "poster_path             0\n",
            "production_companies    0\n",
            "production_countries    0\n",
            "release_date            0\n",
            "runtime                 0\n",
            "spoken_languages        0\n",
            "status                  0\n",
            "title                   0\n",
            "Keywords                0\n",
            "cast                    0\n",
            "id                      0\n",
            "dtype: int64\n",
            "\n",
            "Test is N/A:\n",
            "crew                    0\n",
            "poster_path             0\n",
            "budget                  0\n",
            "genres                  0\n",
            "imdb_id                 0\n",
            "original_language       0\n",
            "original_title          0\n",
            "overview                0\n",
            "popularity              0\n",
            "production_companies    0\n",
            "cast                    0\n",
            "production_countries    0\n",
            "release_date            0\n",
            "runtime                 0\n",
            "spoken_languages        0\n",
            "status                  0\n",
            "title                   0\n",
            "Keywords                0\n",
            "id                      0\n",
            "dtype: int64\n"
          ]
        }
      ]
    },
    {
      "cell_type": "code",
      "metadata": {
        "colab": {
          "base_uri": "https://localhost:8080/",
          "height": 886
        },
        "id": "F5YRoQZYCJZN",
        "outputId": "12187a55-2349-4e87-fa47-74458a19564f"
      },
      "source": [
        "%matplotlib inline\n",
        "\n",
        "train.hist(bins=100, figsize=(30,15))\n",
        "plt.show()"
      ],
      "execution_count": 380,
      "outputs": [
        {
          "output_type": "display_data",
          "data": {
            "image/png": "[encoded data removed]",
            "text/plain": [
              "<Figure size 2160x1080 with 6 Axes>"
            ]
          },
          "metadata": {
            "needs_background": "light"
          }
        }
      ]
    },
    {
      "cell_type": "markdown",
      "metadata": {
        "id": "IhSGuz2Pysml"
      },
      "source": [
        "Including the status of a movie here is a bit strange, especially when it is rumored. Evidently, there is a rumored movie with a revenue, as we can see in the following two code blocks."
      ]
    },
    {
      "cell_type": "code",
      "metadata": {
        "colab": {
          "base_uri": "https://localhost:8080/"
        },
        "id": "te8oV2mMxx39",
        "outputId": "27f7e17b-5f8f-43b9-eee1-6f30cff9022c"
      },
      "source": [
        "print (\"Counts of release status:\")\n",
        "print (train[\"status\"].value_counts())\n",
        "\n",
        "print (\"\\nRevenue for movies with status Rumored:\")\n",
        "print (train[\"revenue\"][train['status'] == \"Rumored\"])\n",
        "\n",
        "#Looking for more categories for similar investigation:\n",
        "print (\"\\nCount of unique values in other categories:\")\n",
        "train.nunique()"
      ],
      "execution_count": 381,
      "outputs": [
        {
          "output_type": "stream",
          "name": "stdout",
          "text": [
            "Counts of release status:\n",
            "Released    2603\n",
            "Rumored        1\n",
            "Name: status, dtype: int64\n",
            "\n",
            "Revenue for movies with status Rumored:\n",
            "1216    13418091\n",
            "Name: revenue, dtype: int64\n",
            "\n",
            "Count of unique values in other categories:\n"
          ]
        },
        {
          "output_type": "execute_result",
          "data": {
            "text/plain": [
              "id                      2604\n",
              "budget                   366\n",
              "genres                   803\n",
              "imdb_id                 2604\n",
              "original_language         32\n",
              "original_title          2582\n",
              "overview                2604\n",
              "popularity              2604\n",
              "poster_path             2604\n",
              "production_companies    2188\n",
              "production_countries     292\n",
              "release_date            2153\n",
              "runtime                  133\n",
              "spoken_languages         370\n",
              "status                     2\n",
              "title                   2578\n",
              "Keywords                2548\n",
              "cast                    2602\n",
              "crew                    2604\n",
              "revenue                 2496\n",
              "dtype: int64"
            ]
          },
          "metadata": {},
          "execution_count": 381
        }
      ]
    },
    {
      "cell_type": "code",
      "metadata": {
        "colab": {
          "base_uri": "https://localhost:8080/",
          "height": 78
        },
        "id": "bd9dJuPmY7T8",
        "outputId": "e89bac52-578d-498a-96b0-71fb786fd0a3"
      },
      "source": [
        "# Drop early to increase performance and readability\n",
        "\n",
        "# Notes:\n",
        "# Poster path converted to boolean gave NaN in correlation. Hence dropped. Data gathering is also poor on this category, and it had very little, if any affect on the result.\n",
        "\n",
        "dropCols = [\"id\", \"imdb_id\", \"original_title\", \"overview\", \"production_companies\", \"production_countries\", \"spoken_languages\", \"status\", \"title\", \"Keywords\", \"cast\", \"crew\", \"poster_path\"]\n",
        "\n",
        "train.drop(dropCols, axis = 1, inplace = True)\n",
        "test.drop(dropCols, axis = 1, inplace = True)\n",
        "\n",
        "train = train.replace({\"'\": \"\"}, regex = True)\n",
        "test = test.replace({\"'\": \"\"}, regex = True)\n",
        "train = train.replace({'\"': \"\"}, regex = True)\n",
        "test = test.replace({'\"': \"\"}, regex = True)\n",
        "\n",
        "#.replace({';':''}, regex=True)\n",
        "\n",
        "# Generate an example csv for understanding how to set up the deployment website\n",
        "#train.head(5).to_csv(\"example.csv\")\n",
        "\n",
        "train.head(1)"
      ],
      "execution_count": 382,
      "outputs": [
        {
          "output_type": "execute_result",
          "data": {
            "text/html": [
              "<div>\n",
              "<style scoped>\n",
              "    .dataframe tbody tr th:only-of-type {\n",
              "        vertical-align: middle;\n",
              "    }\n",
              "\n",
              "    .dataframe tbody tr th {\n",
              "        vertical-align: top;\n",
              "    }\n",
              "\n",
              "    .dataframe thead th {\n",
              "        text-align: right;\n",
              "    }\n",
              "</style>\n",
              "<table border=\"1\" class=\"dataframe\">\n",
              "  <thead>\n",
              "    <tr style=\"text-align: right;\">\n",
              "      <th></th>\n",
              "      <th>budget</th>\n",
              "      <th>genres</th>\n",
              "      <th>original_language</th>\n",
              "      <th>popularity</th>\n",
              "      <th>release_date</th>\n",
              "      <th>runtime</th>\n",
              "      <th>revenue</th>\n",
              "    </tr>\n",
              "  </thead>\n",
              "  <tbody>\n",
              "    <tr>\n",
              "      <th>0</th>\n",
              "      <td>14000000</td>\n",
              "      <td>[{id: 35, name: Comedy}]</td>\n",
              "      <td>en</td>\n",
              "      <td>6.575393</td>\n",
              "      <td>2/20/15</td>\n",
              "      <td>93.0</td>\n",
              "      <td>12314651</td>\n",
              "    </tr>\n",
              "  </tbody>\n",
              "</table>\n",
              "</div>"
            ],
            "text/plain": [
              "     budget                    genres  ... runtime   revenue\n",
              "0  14000000  [{id: 35, name: Comedy}]  ...    93.0  12314651\n",
              "\n",
              "[1 rows x 7 columns]"
            ]
          },
          "metadata": {},
          "execution_count": 382
        }
      ]
    },
    {
      "cell_type": "code",
      "metadata": {
        "colab": {
          "base_uri": "https://localhost:8080/"
        },
        "id": "CS8cZeaepyTw",
        "outputId": "e15e6ce6-db47-4c76-ce84-ab5b2df332c2"
      },
      "source": [
        "#We see that has a correlation. It shouldn't be considered, as it's only a means of organizing data.\n",
        "corr_matrix = train.corr()\n",
        "corr_matrix[\"revenue\"].sort_values(ascending=False)"
      ],
      "execution_count": 383,
      "outputs": [
        {
          "output_type": "execute_result",
          "data": {
            "text/plain": [
              "revenue       1.000000\n",
              "budget        0.744580\n",
              "popularity    0.451975\n",
              "runtime       0.207573\n",
              "Name: revenue, dtype: float64"
            ]
          },
          "metadata": {},
          "execution_count": 383
        }
      ]
    },
    {
      "cell_type": "markdown",
      "metadata": {
        "id": "K-GpS7m_tJBS"
      },
      "source": [
        "In the following graphs, we see that there is some correlation in the data. However, there are outlayers that makes the graphs significantly harder to get a good reading on. An example is are the outlayers in popularity, where a wast majority is centered roughly around 25, while a few jump as high as around 300, skewing the whole graph. This may make the correlation look a lot stronger than it shoud."
      ]
    },
    {
      "cell_type": "code",
      "metadata": {
        "colab": {
          "base_uri": "https://localhost:8080/",
          "height": 1000
        },
        "id": "Trxxel9UraQm",
        "outputId": "20beb105-76c8-434d-b3bd-4831ec1bb876"
      },
      "source": [
        "attributes = [\"revenue\", \"budget\", \"popularity\", \"runtime\"]\n",
        "\n",
        "pd.plotting.scatter_matrix(train[attributes], figsize=(24,16))"
      ],
      "execution_count": 384,
      "outputs": [
        {
          "output_type": "execute_result",
          "data": {
            "text/plain": [
              "array([[<matplotlib.axes._subplots.AxesSubplot object at 0x7f218cc82610>,\n",
              "        <matplotlib.axes._subplots.AxesSubplot object at 0x7f218d8208d0>,\n",
              "        <matplotlib.axes._subplots.AxesSubplot object at 0x7f218ca82750>,\n",
              "        <matplotlib.axes._subplots.AxesSubplot object at 0x7f218ce9f350>],\n",
              "       [<matplotlib.axes._subplots.AxesSubplot object at 0x7f218c4dced0>,\n",
              "        <matplotlib.axes._subplots.AxesSubplot object at 0x7f218ccb1190>,\n",
              "        <matplotlib.axes._subplots.AxesSubplot object at 0x7f218ce2bed0>,\n",
              "        <matplotlib.axes._subplots.AxesSubplot object at 0x7f218cde6610>],\n",
              "       [<matplotlib.axes._subplots.AxesSubplot object at 0x7f218cf28450>,\n",
              "        <matplotlib.axes._subplots.AxesSubplot object at 0x7f218ccd0310>,\n",
              "        <matplotlib.axes._subplots.AxesSubplot object at 0x7f218cb39050>,\n",
              "        <matplotlib.axes._subplots.AxesSubplot object at 0x7f218cbe7350>],\n",
              "       [<matplotlib.axes._subplots.AxesSubplot object at 0x7f218ccdcb10>,\n",
              "        <matplotlib.axes._subplots.AxesSubplot object at 0x7f218cd7e790>,\n",
              "        <matplotlib.axes._subplots.AxesSubplot object at 0x7f218cd8c190>,\n",
              "        <matplotlib.axes._subplots.AxesSubplot object at 0x7f218ce6b190>]],\n",
              "      dtype=object)"
            ]
          },
          "metadata": {},
          "execution_count": 384
        },
        {
          "output_type": "display_data",
          "data": {
            "image/png": "[encoded data removed]",
            "text/plain": [
              "<Figure size 1728x1152 with 16 Axes>"
            ]
          },
          "metadata": {
            "needs_background": "light"
          }
        }
      ]
    },
    {
      "cell_type": "code",
      "metadata": {
        "colab": {
          "base_uri": "https://localhost:8080/",
          "height": 950
        },
        "id": "J_wYb1QFuDPo",
        "outputId": "808acb3a-558e-44d0-9278-056539d9c31d"
      },
      "source": [
        "# Note to self: Most movies are in English. Does this affect the revenue, and is the sample size significant enough to make any good prediction based on language?\n",
        "# This may make movies like \"Parasite\" or series like \"Squid Games\" outliers.\n",
        "\n",
        "plt.figure(figsize=(24,16))\n",
        "sns.countplot(y=\"original_language\", data=train)"
      ],
      "execution_count": 385,
      "outputs": [
        {
          "output_type": "execute_result",
          "data": {
            "text/plain": [
              "<matplotlib.axes._subplots.AxesSubplot at 0x7f2189924810>"
            ]
          },
          "metadata": {},
          "execution_count": 385
        },
        {
          "output_type": "display_data",
          "data": {
            "image/png": "[encoded data removed]",
            "text/plain": [
              "<Figure size 1728x1152 with 1 Axes>"
            ]
          },
          "metadata": {
            "needs_background": "light"
          }
        }
      ]
    },
    {
      "cell_type": "code",
      "metadata": {
        "id": "LLBcOkZxuX3D"
      },
      "source": [
        "from datetime import datetime\n",
        "\n",
        "def add_calendar(data = None):\n",
        "  #dt = datetime.strptime(data[\"release_date\"], '%d/%d/%Y')\n",
        "  #weekday = dt.weekday() + 1\n",
        "\n",
        "  #data[\"release_day\"] = dt.day\n",
        "  #data[\"release_weekday\"] = weekday\n",
        "  #data[\"release_month\"] = dt.month\n",
        "  #data[\"release_year\"] = dt.year\n",
        "\n",
        "  data[\"release_date\"] = pd.to_datetime(data[\"release_date\"], infer_datetime_format=True)\n",
        "  data[\"release_day\"] = data[\"release_date\"].apply(lambda d: d.day)\n",
        "  data[\"release_weekday\"] = data[\"release_date\"].apply(lambda d: d.weekday())\n",
        "  data[\"release_month\"] = data[\"release_date\"].apply(lambda d: d.month)\n",
        "  data[\"release_year\"] = data[\"release_date\"].apply(lambda d: d.year if d.year < 2021 else d.year -100)\n",
        "  data.drop([\"release_date\"], axis = 1, inplace = True)"
      ],
      "execution_count": 386,
      "outputs": []
    },
    {
      "cell_type": "code",
      "metadata": {
        "colab": {
          "base_uri": "https://localhost:8080/",
          "height": 110
        },
        "id": "iFQ3Er0x1ptS",
        "outputId": "6b8031c3-9528-4cac-f8f1-430a56b870c1"
      },
      "source": [
        "add_calendar(train)\n",
        "train.head(2)"
      ],
      "execution_count": 387,
      "outputs": [
        {
          "output_type": "execute_result",
          "data": {
            "text/html": [
              "<div>\n",
              "<style scoped>\n",
              "    .dataframe tbody tr th:only-of-type {\n",
              "        vertical-align: middle;\n",
              "    }\n",
              "\n",
              "    .dataframe tbody tr th {\n",
              "        vertical-align: top;\n",
              "    }\n",
              "\n",
              "    .dataframe thead th {\n",
              "        text-align: right;\n",
              "    }\n",
              "</style>\n",
              "<table border=\"1\" class=\"dataframe\">\n",
              "  <thead>\n",
              "    <tr style=\"text-align: right;\">\n",
              "      <th></th>\n",
              "      <th>budget</th>\n",
              "      <th>genres</th>\n",
              "      <th>original_language</th>\n",
              "      <th>popularity</th>\n",
              "      <th>runtime</th>\n",
              "      <th>revenue</th>\n",
              "      <th>release_day</th>\n",
              "      <th>release_weekday</th>\n",
              "      <th>release_month</th>\n",
              "      <th>release_year</th>\n",
              "    </tr>\n",
              "  </thead>\n",
              "  <tbody>\n",
              "    <tr>\n",
              "      <th>0</th>\n",
              "      <td>14000000</td>\n",
              "      <td>[{id: 35, name: Comedy}]</td>\n",
              "      <td>en</td>\n",
              "      <td>6.575393</td>\n",
              "      <td>93.0</td>\n",
              "      <td>12314651</td>\n",
              "      <td>20</td>\n",
              "      <td>4</td>\n",
              "      <td>2</td>\n",
              "      <td>2015</td>\n",
              "    </tr>\n",
              "    <tr>\n",
              "      <th>1</th>\n",
              "      <td>40000000</td>\n",
              "      <td>[{id: 35, name: Comedy}, {id: 18, name: Drama}...</td>\n",
              "      <td>en</td>\n",
              "      <td>8.248895</td>\n",
              "      <td>113.0</td>\n",
              "      <td>95149435</td>\n",
              "      <td>6</td>\n",
              "      <td>4</td>\n",
              "      <td>8</td>\n",
              "      <td>2004</td>\n",
              "    </tr>\n",
              "  </tbody>\n",
              "</table>\n",
              "</div>"
            ],
            "text/plain": [
              "     budget  ... release_year\n",
              "0  14000000  ...         2015\n",
              "1  40000000  ...         2004\n",
              "\n",
              "[2 rows x 10 columns]"
            ]
          },
          "metadata": {},
          "execution_count": 387
        }
      ]
    },
    {
      "cell_type": "code",
      "metadata": {
        "colab": {
          "base_uri": "https://localhost:8080/",
          "height": 110
        },
        "id": "y1SmYT9w115B",
        "outputId": "d77908d5-5c73-41d8-b404-b937fe9b25d9"
      },
      "source": [
        "add_calendar(test)\n",
        "test.head(2)"
      ],
      "execution_count": 388,
      "outputs": [
        {
          "output_type": "execute_result",
          "data": {
            "text/html": [
              "<div>\n",
              "<style scoped>\n",
              "    .dataframe tbody tr th:only-of-type {\n",
              "        vertical-align: middle;\n",
              "    }\n",
              "\n",
              "    .dataframe tbody tr th {\n",
              "        vertical-align: top;\n",
              "    }\n",
              "\n",
              "    .dataframe thead th {\n",
              "        text-align: right;\n",
              "    }\n",
              "</style>\n",
              "<table border=\"1\" class=\"dataframe\">\n",
              "  <thead>\n",
              "    <tr style=\"text-align: right;\">\n",
              "      <th></th>\n",
              "      <th>budget</th>\n",
              "      <th>genres</th>\n",
              "      <th>original_language</th>\n",
              "      <th>popularity</th>\n",
              "      <th>runtime</th>\n",
              "      <th>release_day</th>\n",
              "      <th>release_weekday</th>\n",
              "      <th>release_month</th>\n",
              "      <th>release_year</th>\n",
              "    </tr>\n",
              "  </thead>\n",
              "  <tbody>\n",
              "    <tr>\n",
              "      <th>1</th>\n",
              "      <td>88000</td>\n",
              "      <td>[{id: 27, name: Horror}, {id: 878, name: Scien...</td>\n",
              "      <td>en</td>\n",
              "      <td>3.559789</td>\n",
              "      <td>65.0</td>\n",
              "      <td>19</td>\n",
              "      <td>6</td>\n",
              "      <td>5</td>\n",
              "      <td>1958</td>\n",
              "    </tr>\n",
              "    <tr>\n",
              "      <th>2</th>\n",
              "      <td>0</td>\n",
              "      <td>[{id: 35, name: Comedy}, {id: 10749, name: Rom...</td>\n",
              "      <td>en</td>\n",
              "      <td>8.085194</td>\n",
              "      <td>100.0</td>\n",
              "      <td>23</td>\n",
              "      <td>4</td>\n",
              "      <td>5</td>\n",
              "      <td>1997</td>\n",
              "    </tr>\n",
              "  </tbody>\n",
              "</table>\n",
              "</div>"
            ],
            "text/plain": [
              "   budget  ... release_year\n",
              "1   88000  ...         1958\n",
              "2       0  ...         1997\n",
              "\n",
              "[2 rows x 9 columns]"
            ]
          },
          "metadata": {},
          "execution_count": 388
        }
      ]
    },
    {
      "cell_type": "code",
      "metadata": {
        "colab": {
          "base_uri": "https://localhost:8080/",
          "height": 515
        },
        "id": "t8uCU-E32JiY",
        "outputId": "fe54f692-4907-4733-fed0-7503acaa4bc6"
      },
      "source": [
        "plt.figure(figsize=(12,8))\n",
        "sns.countplot(x='release_month',data=train)"
      ],
      "execution_count": 389,
      "outputs": [
        {
          "output_type": "execute_result",
          "data": {
            "text/plain": [
              "<matplotlib.axes._subplots.AxesSubplot at 0x7f21898fed90>"
            ]
          },
          "metadata": {},
          "execution_count": 389
        },
        {
          "output_type": "display_data",
          "data": {
            "image/png": "[encoded data removed]",
            "text/plain": [
              "<Figure size 864x576 with 1 Axes>"
            ]
          },
          "metadata": {
            "needs_background": "light"
          }
        }
      ]
    },
    {
      "cell_type": "code",
      "metadata": {
        "colab": {
          "base_uri": "https://localhost:8080/",
          "height": 515
        },
        "id": "STbETMHT1Ds-",
        "outputId": "8abab4ad-85e7-493b-ac48-e7426e00a430"
      },
      "source": [
        "plt.figure(figsize=(12,8))\n",
        "sns.countplot(x=\"release_weekday\",data=train)"
      ],
      "execution_count": 390,
      "outputs": [
        {
          "output_type": "execute_result",
          "data": {
            "text/plain": [
              "<matplotlib.axes._subplots.AxesSubplot at 0x7f21898d9c10>"
            ]
          },
          "metadata": {},
          "execution_count": 390
        },
        {
          "output_type": "display_data",
          "data": {
            "image/png": "[encoded data removed]",
            "text/plain": [
              "<Figure size 864x576 with 1 Axes>"
            ]
          },
          "metadata": {
            "needs_background": "light"
          }
        }
      ]
    },
    {
      "cell_type": "markdown",
      "metadata": {
        "id": "3rqQVsNh1o1L"
      },
      "source": [
        "In the two last graphs, we see that month and weekday may have a big significance that needs to be entered in the model."
      ]
    },
    {
      "cell_type": "code",
      "metadata": {
        "colab": {
          "base_uri": "https://localhost:8080/",
          "height": 1000
        },
        "id": "YxevF1Lo31U0",
        "outputId": "d1e1ab68-93e3-42cc-c72a-8c1ea441e448"
      },
      "source": [
        "plt.figure(figsize=(24,16))\n",
        "sns.countplot(x='release_year',data=train)\n",
        "plt.xticks(rotation=90)"
      ],
      "execution_count": 391,
      "outputs": [
        {
          "output_type": "execute_result",
          "data": {
            "text/plain": [
              "(array([ 0,  1,  2,  3,  4,  5,  6,  7,  8,  9, 10, 11, 12, 13, 14, 15, 16,\n",
              "        17, 18, 19, 20, 21, 22, 23, 24, 25, 26, 27, 28, 29, 30, 31, 32, 33,\n",
              "        34, 35, 36, 37, 38, 39, 40, 41, 42, 43, 44, 45, 46, 47, 48, 49, 50,\n",
              "        51, 52, 53, 54, 55, 56, 57, 58, 59, 60, 61, 62, 63, 64, 65, 66, 67,\n",
              "        68, 69, 70, 71, 72, 73, 74, 75, 76, 77, 78, 79, 80, 81, 82, 83, 84,\n",
              "        85, 86, 87, 88, 89]), <a list of 90 Text major ticklabel objects>)"
            ]
          },
          "metadata": {},
          "execution_count": 391
        },
        {
          "output_type": "display_data",
          "data": {
            "image/png": "[encoded data removed]",
            "text/plain": [
              "<Figure size 1728x1152 with 1 Axes>"
            ]
          },
          "metadata": {
            "needs_background": "light"
          }
        }
      ]
    },
    {
      "cell_type": "code",
      "metadata": {
        "colab": {
          "base_uri": "https://localhost:8080/",
          "height": 202
        },
        "id": "QyFj9Sk3GXly",
        "outputId": "bf13816c-a6ef-4f24-dede-e07cc557c964"
      },
      "source": [
        "train[train.budget == 0].head()\n",
        "\n",
        "# indekser på disse er f.eks. 8, 11, 17, 22."
      ],
      "execution_count": 392,
      "outputs": [
        {
          "output_type": "execute_result",
          "data": {
            "text/html": [
              "<div>\n",
              "<style scoped>\n",
              "    .dataframe tbody tr th:only-of-type {\n",
              "        vertical-align: middle;\n",
              "    }\n",
              "\n",
              "    .dataframe tbody tr th {\n",
              "        vertical-align: top;\n",
              "    }\n",
              "\n",
              "    .dataframe thead th {\n",
              "        text-align: right;\n",
              "    }\n",
              "</style>\n",
              "<table border=\"1\" class=\"dataframe\">\n",
              "  <thead>\n",
              "    <tr style=\"text-align: right;\">\n",
              "      <th></th>\n",
              "      <th>budget</th>\n",
              "      <th>genres</th>\n",
              "      <th>original_language</th>\n",
              "      <th>popularity</th>\n",
              "      <th>runtime</th>\n",
              "      <th>revenue</th>\n",
              "      <th>release_day</th>\n",
              "      <th>release_weekday</th>\n",
              "      <th>release_month</th>\n",
              "      <th>release_year</th>\n",
              "    </tr>\n",
              "  </thead>\n",
              "  <tbody>\n",
              "    <tr>\n",
              "      <th>8</th>\n",
              "      <td>0</td>\n",
              "      <td>[{id: 28, name: Action}, {id: 35, name: Comedy...</td>\n",
              "      <td>en</td>\n",
              "      <td>6.902423</td>\n",
              "      <td>100.0</td>\n",
              "      <td>34327391</td>\n",
              "      <td>16</td>\n",
              "      <td>4</td>\n",
              "      <td>2</td>\n",
              "      <td>1996</td>\n",
              "    </tr>\n",
              "    <tr>\n",
              "      <th>11</th>\n",
              "      <td>0</td>\n",
              "      <td>[{id: 35, name: Comedy}]</td>\n",
              "      <td>en</td>\n",
              "      <td>10.543750</td>\n",
              "      <td>98.0</td>\n",
              "      <td>22642033</td>\n",
              "      <td>10</td>\n",
              "      <td>4</td>\n",
              "      <td>7</td>\n",
              "      <td>1987</td>\n",
              "    </tr>\n",
              "    <tr>\n",
              "      <th>17</th>\n",
              "      <td>0</td>\n",
              "      <td>[{id: 18, name: Drama}, {id: 10749, name: Roma...</td>\n",
              "      <td>en</td>\n",
              "      <td>4.183558</td>\n",
              "      <td>111.0</td>\n",
              "      <td>1234254</td>\n",
              "      <td>25</td>\n",
              "      <td>2</td>\n",
              "      <td>12</td>\n",
              "      <td>2013</td>\n",
              "    </tr>\n",
              "    <tr>\n",
              "      <th>22</th>\n",
              "      <td>0</td>\n",
              "      <td>[{id: 53, name: Thriller}, {id: 27, name: Horr...</td>\n",
              "      <td>en</td>\n",
              "      <td>7.820787</td>\n",
              "      <td>116.0</td>\n",
              "      <td>100345</td>\n",
              "      <td>28</td>\n",
              "      <td>5</td>\n",
              "      <td>7</td>\n",
              "      <td>2012</td>\n",
              "    </tr>\n",
              "    <tr>\n",
              "      <th>24</th>\n",
              "      <td>0</td>\n",
              "      <td>[{id: 27, name: Horror}, {id: 35, name: Comedy}]</td>\n",
              "      <td>en</td>\n",
              "      <td>7.434577</td>\n",
              "      <td>87.0</td>\n",
              "      <td>4947717</td>\n",
              "      <td>9</td>\n",
              "      <td>5</td>\n",
              "      <td>9</td>\n",
              "      <td>2006</td>\n",
              "    </tr>\n",
              "  </tbody>\n",
              "</table>\n",
              "</div>"
            ],
            "text/plain": [
              "    budget  ... release_year\n",
              "8        0  ...         1996\n",
              "11       0  ...         1987\n",
              "17       0  ...         2013\n",
              "22       0  ...         2012\n",
              "24       0  ...         2006\n",
              "\n",
              "[5 rows x 10 columns]"
            ]
          },
          "metadata": {},
          "execution_count": 392
        }
      ]
    },
    {
      "cell_type": "markdown",
      "metadata": {
        "id": "P2xfrzYbPKeb"
      },
      "source": [
        "The following code fills budgets where the value is 0 with something more realistic. As we've seen in the graph above that movies are released over several decades, we need to take inflation into consideration. Therefore we first collect movies where the budget is not 0. This is done to avoid doing something like interpolating between two 0-values. Then we group the non-zeros by year to take a mean from each grouped year.\n",
        "\n",
        "The main data that we want to continue working on then has the mean values applied to it. This is not good for the accuracy in the model, but it's one of the better alternatives to just deleting the data, ending up with a dataset that is so small that it will again affect the training negatively."
      ]
    },
    {
      "cell_type": "code",
      "metadata": {
        "id": "kSEc67TA_B6N",
        "colab": {
          "base_uri": "https://localhost:8080/"
        },
        "outputId": "8e829e99-071a-407e-efbd-4c86d9b47020"
      },
      "source": [
        "from collections import defaultdict\n",
        "\n",
        "# Becasue there are so many entries without a budget, we save the data.\n",
        "def fill_budget(data):\n",
        "  defEd = defaultdict()\n",
        "\n",
        "  notZeros = data[data[\"budget\"] != 0]\n",
        "  \n",
        "  year_mean = pd.Series(notZeros.groupby([\"release_year\"])[\"budget\"].agg(\"mean\"))\n",
        "  defEd = dict(year_mean)\n",
        "  \n",
        "  for i in data[data[\"budget\"] == 0]:\n",
        "    data[\"budget\"] = data.loc[:, \"release_year\"].map(defEd)\n",
        "\n",
        "  # Replace possible NaN with 0\n",
        "  print (\"NaN-values in budget left to be 0'ed:\",data[\"budget\"].isna().sum())\n",
        "  data.budget = data[\"budget\"].ffill(0)\n",
        "    \n",
        "  return data\n",
        "\n",
        "train = fill_budget(train)\n",
        "test = fill_budget(test)\n",
        "\n",
        "print (len(train[train['budget']==0]))\n",
        "print (len(test[test['budget']==0]))"
      ],
      "execution_count": 393,
      "outputs": [
        {
          "output_type": "stream",
          "name": "stdout",
          "text": [
            "NaN-values in budget left to be 0'ed: 6\n",
            "NaN-values in budget left to be 0'ed: 1\n",
            "0\n",
            "0\n"
          ]
        }
      ]
    },
    {
      "cell_type": "code",
      "metadata": {
        "colab": {
          "base_uri": "https://localhost:8080/"
        },
        "id": "HpHjKwXIDuGi",
        "outputId": "2a0a81d9-5f52-4925-c710-9baec1498ad6"
      },
      "source": [
        "train.head()\n",
        "train.shape"
      ],
      "execution_count": 394,
      "outputs": [
        {
          "output_type": "execute_result",
          "data": {
            "text/plain": [
              "(2604, 10)"
            ]
          },
          "metadata": {},
          "execution_count": 394
        }
      ]
    },
    {
      "cell_type": "markdown",
      "metadata": {
        "id": "lDpt3OtmQbJJ"
      },
      "source": [
        "###Dict conversion"
      ]
    },
    {
      "cell_type": "code",
      "metadata": {
        "id": "b3cBoSMuEK62"
      },
      "source": [
        "def convert_dicts(data = None):\n",
        "  #Genres\n",
        "  genres = data.genres.str.get_dummies(sep = ',')\n",
        "  data = pd.concat([data, genres], axis = 1)\n",
        "  data.drop([\"genres\"], axis = 1, inplace = True)\n",
        "\n",
        "  #Original language\n",
        "  lang = pd.get_dummies(data[\"original_language\"])\n",
        "  data.drop([\"original_language\"], axis = 1, inplace = True)\n",
        "\n",
        "  data = pd.concat([data, lang], axis = 1)\n",
        "  \n",
        "  return data\n",
        "\n",
        "#train = convert_dicts(train)\n",
        "#test = convert_dicts(test)\n",
        "\n",
        "# When conversion disabled, remove the dicts:\n",
        "train.drop([\"genres\"], axis = 1, inplace = True)\n",
        "test.drop([\"genres\"], axis = 1, inplace = True)\n",
        "train.drop([\"original_language\"], axis = 1, inplace = True)\n",
        "test.drop([\"original_language\"], axis = 1, inplace = True)"
      ],
      "execution_count": 395,
      "outputs": []
    },
    {
      "cell_type": "code",
      "metadata": {
        "colab": {
          "base_uri": "https://localhost:8080/",
          "height": 78
        },
        "id": "iosQH5UuTwBf",
        "outputId": "343cb644-6912-43d1-c18e-0c7a0e59ca4f"
      },
      "source": [
        "train.head(1)"
      ],
      "execution_count": 396,
      "outputs": [
        {
          "output_type": "execute_result",
          "data": {
            "text/html": [
              "<div>\n",
              "<style scoped>\n",
              "    .dataframe tbody tr th:only-of-type {\n",
              "        vertical-align: middle;\n",
              "    }\n",
              "\n",
              "    .dataframe tbody tr th {\n",
              "        vertical-align: top;\n",
              "    }\n",
              "\n",
              "    .dataframe thead th {\n",
              "        text-align: right;\n",
              "    }\n",
              "</style>\n",
              "<table border=\"1\" class=\"dataframe\">\n",
              "  <thead>\n",
              "    <tr style=\"text-align: right;\">\n",
              "      <th></th>\n",
              "      <th>budget</th>\n",
              "      <th>popularity</th>\n",
              "      <th>runtime</th>\n",
              "      <th>revenue</th>\n",
              "      <th>release_day</th>\n",
              "      <th>release_weekday</th>\n",
              "      <th>release_month</th>\n",
              "      <th>release_year</th>\n",
              "    </tr>\n",
              "  </thead>\n",
              "  <tbody>\n",
              "    <tr>\n",
              "      <th>0</th>\n",
              "      <td>4.818330e+07</td>\n",
              "      <td>6.575393</td>\n",
              "      <td>93.0</td>\n",
              "      <td>12314651</td>\n",
              "      <td>20</td>\n",
              "      <td>4</td>\n",
              "      <td>2</td>\n",
              "      <td>2015</td>\n",
              "    </tr>\n",
              "  </tbody>\n",
              "</table>\n",
              "</div>"
            ],
            "text/plain": [
              "         budget  popularity  ...  release_month  release_year\n",
              "0  4.818330e+07    6.575393  ...              2          2015\n",
              "\n",
              "[1 rows x 8 columns]"
            ]
          },
          "metadata": {},
          "execution_count": 396
        }
      ]
    },
    {
      "cell_type": "code",
      "metadata": {
        "colab": {
          "base_uri": "https://localhost:8080/"
        },
        "id": "8QSToMVdXFah",
        "outputId": "afb35743-373c-4932-d5fc-0d935b85cfcd"
      },
      "source": [
        "print (train.shape)\n",
        "print (test.shape)"
      ],
      "execution_count": 397,
      "outputs": [
        {
          "output_type": "stream",
          "name": "stdout",
          "text": [
            "(2604, 8)\n",
            "(3814, 7)\n"
          ]
        }
      ]
    },
    {
      "cell_type": "code",
      "metadata": {
        "colab": {
          "base_uri": "https://localhost:8080/",
          "height": 78
        },
        "id": "bJE95FuseKzr",
        "outputId": "6697b405-9117-4b34-f448-a69735a8b1e9"
      },
      "source": [
        "train.head(1)"
      ],
      "execution_count": 398,
      "outputs": [
        {
          "output_type": "execute_result",
          "data": {
            "text/html": [
              "<div>\n",
              "<style scoped>\n",
              "    .dataframe tbody tr th:only-of-type {\n",
              "        vertical-align: middle;\n",
              "    }\n",
              "\n",
              "    .dataframe tbody tr th {\n",
              "        vertical-align: top;\n",
              "    }\n",
              "\n",
              "    .dataframe thead th {\n",
              "        text-align: right;\n",
              "    }\n",
              "</style>\n",
              "<table border=\"1\" class=\"dataframe\">\n",
              "  <thead>\n",
              "    <tr style=\"text-align: right;\">\n",
              "      <th></th>\n",
              "      <th>budget</th>\n",
              "      <th>popularity</th>\n",
              "      <th>runtime</th>\n",
              "      <th>revenue</th>\n",
              "      <th>release_day</th>\n",
              "      <th>release_weekday</th>\n",
              "      <th>release_month</th>\n",
              "      <th>release_year</th>\n",
              "    </tr>\n",
              "  </thead>\n",
              "  <tbody>\n",
              "    <tr>\n",
              "      <th>0</th>\n",
              "      <td>4.818330e+07</td>\n",
              "      <td>6.575393</td>\n",
              "      <td>93.0</td>\n",
              "      <td>12314651</td>\n",
              "      <td>20</td>\n",
              "      <td>4</td>\n",
              "      <td>2</td>\n",
              "      <td>2015</td>\n",
              "    </tr>\n",
              "  </tbody>\n",
              "</table>\n",
              "</div>"
            ],
            "text/plain": [
              "         budget  popularity  ...  release_month  release_year\n",
              "0  4.818330e+07    6.575393  ...              2          2015\n",
              "\n",
              "[1 rows x 8 columns]"
            ]
          },
          "metadata": {},
          "execution_count": 398
        }
      ]
    },
    {
      "cell_type": "code",
      "metadata": {
        "colab": {
          "base_uri": "https://localhost:8080/",
          "height": 78
        },
        "id": "4Sf53oizeRoq",
        "outputId": "7269cfe2-f1c8-4a47-d0c0-340411d6204c"
      },
      "source": [
        "test.head(1)"
      ],
      "execution_count": 399,
      "outputs": [
        {
          "output_type": "execute_result",
          "data": {
            "text/html": [
              "<div>\n",
              "<style scoped>\n",
              "    .dataframe tbody tr th:only-of-type {\n",
              "        vertical-align: middle;\n",
              "    }\n",
              "\n",
              "    .dataframe tbody tr th {\n",
              "        vertical-align: top;\n",
              "    }\n",
              "\n",
              "    .dataframe thead th {\n",
              "        text-align: right;\n",
              "    }\n",
              "</style>\n",
              "<table border=\"1\" class=\"dataframe\">\n",
              "  <thead>\n",
              "    <tr style=\"text-align: right;\">\n",
              "      <th></th>\n",
              "      <th>budget</th>\n",
              "      <th>popularity</th>\n",
              "      <th>runtime</th>\n",
              "      <th>release_day</th>\n",
              "      <th>release_weekday</th>\n",
              "      <th>release_month</th>\n",
              "      <th>release_year</th>\n",
              "    </tr>\n",
              "  </thead>\n",
              "  <tbody>\n",
              "    <tr>\n",
              "      <th>1</th>\n",
              "      <td>2479200.0</td>\n",
              "      <td>3.559789</td>\n",
              "      <td>65.0</td>\n",
              "      <td>19</td>\n",
              "      <td>6</td>\n",
              "      <td>5</td>\n",
              "      <td>1958</td>\n",
              "    </tr>\n",
              "  </tbody>\n",
              "</table>\n",
              "</div>"
            ],
            "text/plain": [
              "      budget  popularity  runtime  ...  release_weekday  release_month  release_year\n",
              "1  2479200.0    3.559789     65.0  ...                6              5          1958\n",
              "\n",
              "[1 rows x 7 columns]"
            ]
          },
          "metadata": {},
          "execution_count": 399
        }
      ]
    },
    {
      "cell_type": "code",
      "metadata": {
        "colab": {
          "base_uri": "https://localhost:8080/"
        },
        "id": "L_fkXL9ESJm7",
        "outputId": "b3240b04-82ff-44a9-e92b-e15779692cdb"
      },
      "source": [
        "corr_matrix = train.corr()\n",
        "corr_matrix[\"revenue\"].sort_values(ascending=False)"
      ],
      "execution_count": 400,
      "outputs": [
        {
          "output_type": "execute_result",
          "data": {
            "text/plain": [
              "revenue            1.000000\n",
              "popularity         0.451975\n",
              "runtime            0.207573\n",
              "budget             0.164108\n",
              "release_year       0.153703\n",
              "release_day        0.037747\n",
              "release_month      0.020302\n",
              "release_weekday   -0.135270\n",
              "Name: revenue, dtype: float64"
            ]
          },
          "metadata": {},
          "execution_count": 400
        }
      ]
    },
    {
      "cell_type": "markdown",
      "metadata": {
        "id": "OFSdwr8NgHsP"
      },
      "source": [
        "#Training Model and Predictions"
      ]
    },
    {
      "cell_type": "code",
      "metadata": {
        "id": "iJ7KKt29gNhA"
      },
      "source": [
        "from sklearn.model_selection import train_test_split\n",
        "from sklearn.metrics import classification_report\n",
        "\n",
        "from sklearn.linear_model import LinearRegression\n",
        "from xgboost import XGBRegressor\n",
        "from lightgbm import LGBMRegressor\n",
        "\n",
        "from sklearn import metrics"
      ],
      "execution_count": 401,
      "outputs": []
    },
    {
      "cell_type": "code",
      "metadata": {
        "colab": {
          "base_uri": "https://localhost:8080/"
        },
        "id": "4RIGDhi8iY7-",
        "outputId": "23683245-5354-4ae0-800f-e0d46d8a1b82"
      },
      "source": [
        "X = train.drop([\"revenue\"], axis = 1)\n",
        "y = train[\"revenue\"]\n",
        "\n",
        "X_train, X_test, y_train, y_test = train_test_split(X, y, test_size = 0.20, random_state = 0)\n",
        "\n",
        "print (X_train.shape)\n",
        "print (y_train.shape)\n",
        "print (X_test.shape)\n",
        "print (y_test.shape)"
      ],
      "execution_count": 402,
      "outputs": [
        {
          "output_type": "stream",
          "name": "stdout",
          "text": [
            "(2083, 7)\n",
            "(2083,)\n",
            "(521, 7)\n",
            "(521,)\n"
          ]
        }
      ]
    },
    {
      "cell_type": "code",
      "metadata": {
        "colab": {
          "base_uri": "https://localhost:8080/"
        },
        "id": "uKxaJs00mkSY",
        "outputId": "1ec100e9-c8d1-4bbf-ce9b-18cc8232e309"
      },
      "source": [
        "y_train.head()"
      ],
      "execution_count": 403,
      "outputs": [
        {
          "output_type": "execute_result",
          "data": {
            "text/plain": [
              "553     11081586\n",
              "2710     3100000\n",
              "2520    90614445\n",
              "1575    11582891\n",
              "2090          18\n",
              "Name: revenue, dtype: int64"
            ]
          },
          "metadata": {},
          "execution_count": 403
        }
      ]
    },
    {
      "cell_type": "code",
      "metadata": {
        "id": "iqJvoFbL27BR"
      },
      "source": [
        "# Generate an example csv for understanding how to set up the deployment website\n",
        "#X_train.head(5).to_csv(\"example.csv\")\n",
        "#X_train.head(1)"
      ],
      "execution_count": 404,
      "outputs": []
    },
    {
      "cell_type": "code",
      "metadata": {
        "colab": {
          "base_uri": "https://localhost:8080/"
        },
        "id": "RbE9y31Mm3TL",
        "outputId": "82c378c2-2b20-47c7-cc2a-80f05c81aeb1"
      },
      "source": [
        "y_test.head()"
      ],
      "execution_count": 405,
      "outputs": [
        {
          "output_type": "execute_result",
          "data": {
            "text/plain": [
              "2669    346079773\n",
              "2782     77745568\n",
              "221        754935\n",
              "2831     19265302\n",
              "1052     10541523\n",
              "Name: revenue, dtype: int64"
            ]
          },
          "metadata": {},
          "execution_count": 405
        }
      ]
    },
    {
      "cell_type": "code",
      "metadata": {
        "id": "dt2dk_5b02P2"
      },
      "source": [
        "def rmsle(y_test, prediction):\n",
        "  return np.sqrt(np.mean(np.square(np.log1p(prediction) - np.log1p(y_test))))"
      ],
      "execution_count": 406,
      "outputs": []
    },
    {
      "cell_type": "code",
      "metadata": {
        "id": "AJiGLDuOxgJq"
      },
      "source": [
        "def print_mean_err(prediction = None):\n",
        "  mae = metrics.mean_absolute_error(y_test, prediction)\n",
        "  mse = metrics.mean_squared_error(y_test, prediction)\n",
        "  rmse = np.sqrt(metrics.mean_squared_error(y_test, prediction))\n",
        "\n",
        "  print (\"MAE:\", mae)\n",
        "  print (\"MSE:\", mse)\n",
        "  print (\"RMSE:\", rmse)\n",
        "  print (\"RMSLE:\", rmsle(y_test, prediction))"
      ],
      "execution_count": 407,
      "outputs": []
    },
    {
      "cell_type": "code",
      "metadata": {
        "colab": {
          "base_uri": "https://localhost:8080/"
        },
        "id": "wFCfdFcAm8bV",
        "outputId": "6919d1a1-21bc-4ec0-a802-7ad2c4963226"
      },
      "source": [
        "test_model = LinearRegression()\n",
        "test_model.fit(X_train, y_train)\n",
        "print_mean_err(test_model.predict(X_test))"
      ],
      "execution_count": 408,
      "outputs": [
        {
          "output_type": "stream",
          "name": "stdout",
          "text": [
            "MAE: 67440866.24816407\n",
            "MSE: 1.3056624996522134e+16\n",
            "RMSE: 114265589.73077649\n",
            "RMSLE: 2.9805303332550115\n"
          ]
        },
        {
          "output_type": "stream",
          "name": "stderr",
          "text": [
            "/usr/local/lib/python3.7/dist-packages/ipykernel_launcher.py:2: RuntimeWarning: invalid value encountered in log1p\n",
            "  \n"
          ]
        }
      ]
    },
    {
      "cell_type": "code",
      "metadata": {
        "colab": {
          "base_uri": "https://localhost:8080/"
        },
        "id": "WedK6Ho7wFf9",
        "outputId": "1fcdb78d-365e-4f71-988a-7fe6d695058f"
      },
      "source": [
        "model = LGBMRegressor(n_estimators=100)\n",
        "\n",
        "model.fit(X_train,\n",
        "            y_train,\n",
        "            eval_set = [(X_test, y_test)],\n",
        "            eval_metric = [\"rmlsle\", rmsle, False],\n",
        "            verbose = False)\n",
        "\n",
        "prediction = model.predict(X_test, num_iteration = model.best_iteration_)\n",
        "print_mean_err (prediction)"
      ],
      "execution_count": 409,
      "outputs": [
        {
          "output_type": "stream",
          "name": "stdout",
          "text": [
            "MAE: 58821161.223189\n",
            "MSE: 1.040187917271077e+16\n",
            "RMSE: 101989603.25793394\n",
            "RMSLE: 2.858211576664866\n"
          ]
        },
        {
          "output_type": "stream",
          "name": "stderr",
          "text": [
            "/usr/local/lib/python3.7/dist-packages/ipykernel_launcher.py:2: RuntimeWarning: invalid value encountered in log1p\n",
            "  \n"
          ]
        }
      ]
    },
    {
      "cell_type": "code",
      "metadata": {
        "colab": {
          "base_uri": "https://localhost:8080/"
        },
        "id": "LpNCEQaiGI_N",
        "outputId": "3e858de3-cf77-416f-fe73-ad7f7c5789c0"
      },
      "source": [
        "model.best_score_"
      ],
      "execution_count": 410,
      "outputs": [
        {
          "output_type": "execute_result",
          "data": {
            "text/plain": [
              "defaultdict(dict, {})"
            ]
          },
          "metadata": {},
          "execution_count": 410
        }
      ]
    },
    {
      "cell_type": "code",
      "metadata": {
        "colab": {
          "base_uri": "https://localhost:8080/"
        },
        "id": "5da_QVNzIdYV",
        "outputId": "1c8c6f84-8707-40aa-da76-d47553ec976b"
      },
      "source": [
        "model.feature_importances_"
      ],
      "execution_count": 411,
      "outputs": [
        {
          "output_type": "execute_result",
          "data": {
            "text/plain": [
              "array([280, 869, 708, 327, 155, 318, 343])"
            ]
          },
          "metadata": {},
          "execution_count": 411
        }
      ]
    },
    {
      "cell_type": "code",
      "metadata": {
        "id": "JIFnm_-7B7xd"
      },
      "source": [
        "import pickle\n",
        "\n",
        "# Exporting test_model, as LGBMRegressor gave problems during deployment\n",
        "with open(\"LR_Model\", \"wb\") as file:\n",
        "  pickle.dump(test_model, file)"
      ],
      "execution_count": 412,
      "outputs": []
    },
    {
      "cell_type": "markdown",
      "metadata": {
        "id": "f2K7XR6hpy_E"
      },
      "source": [
        "#Conclusion\n",
        "\n",
        "The result far off from where we want it to be. This is because the model doesn't get enough categories to work with. We also removed a catefory for the log of the revenue, because it creates a false accuracy. It relies on revenue, which will not be gathered for data to do predictions on. Another thing to note is that the budget entries were lacking, and the solution to fill it with the average of the year of release was just to save the data from being dropped, and have enough for the model to train on. We do therefore consider the data collection in the training set a bit lackluster.\n",
        "\n",
        "With more time, cast and genres would be properly sorted as dummies. We suspect this would help a lot, although a big budget should imply a \"good\" cast.\n",
        "\n",
        "Sidenote: We disabled the dummies to make the deployment work. The problem was that the deployed version made dataframes of wrong size for the model. The team is simply too overworked and/ or sick (literally) and tired to map things correctly. Sorry.\n",
        "\n",
        "Extra conclusion: Dummies are possibly quite bad for further datagathering without properly set template."
      ]
    }
  ]
}